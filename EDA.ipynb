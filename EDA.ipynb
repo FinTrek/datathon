{
 "cells": [
  {
   "cell_type": "code",
   "execution_count": 1,
   "metadata": {},
   "outputs": [],
   "source": [
    "import pandas as pd\n",
    "import numpy as np\n",
    "import json\n",
    "\n",
    "import seaborn as sns\n",
    "import matplotlib.pyplot as plt\n",
    "%matplotlib inline\n",
    "\n",
    "plt.style.use('ggplot')\n",
    "pd.options.display.max_rows = 500\n",
    "pd.options.display.max_columns = 100\n",
    "\n",
    "import warnings\n",
    "warnings.filterwarnings(\"ignore\") \n",
    "\n",
    "from datetime import datetime\n",
    "from IPython.display import display, Markdown\n",
    "from IPython.core.interactiveshell import InteractiveShell\n",
    "InteractiveShell.ast_node_interactivity = \"all\""
   ]
  },
  {
   "cell_type": "code",
   "execution_count": 2,
   "metadata": {},
   "outputs": [],
   "source": [
    "fp = 'data/raw/concatenated_abridged.jsonl'\n",
    "data = [json.loads(line) for line in open(fp, 'r')]"
   ]
  },
  {
   "cell_type": "code",
   "execution_count": 3,
   "metadata": {},
   "outputs": [],
   "source": [
    "tweet_df = pd.DataFrame(data)"
   ]
  },
  {
   "cell_type": "code",
   "execution_count": 4,
   "metadata": {},
   "outputs": [
    {
     "data": {
      "text/html": [
       "<div>\n",
       "<style scoped>\n",
       "    .dataframe tbody tr th:only-of-type {\n",
       "        vertical-align: middle;\n",
       "    }\n",
       "\n",
       "    .dataframe tbody tr th {\n",
       "        vertical-align: top;\n",
       "    }\n",
       "\n",
       "    .dataframe thead th {\n",
       "        text-align: right;\n",
       "    }\n",
       "</style>\n",
       "<table border=\"1\" class=\"dataframe\">\n",
       "  <thead>\n",
       "    <tr style=\"text-align: right;\">\n",
       "      <th></th>\n",
       "      <th>created_at</th>\n",
       "      <th>id</th>\n",
       "      <th>id_str</th>\n",
       "      <th>full_text</th>\n",
       "      <th>truncated</th>\n",
       "      <th>display_text_range</th>\n",
       "      <th>entities</th>\n",
       "      <th>source</th>\n",
       "      <th>in_reply_to_status_id</th>\n",
       "      <th>in_reply_to_status_id_str</th>\n",
       "      <th>in_reply_to_user_id</th>\n",
       "      <th>in_reply_to_user_id_str</th>\n",
       "      <th>in_reply_to_screen_name</th>\n",
       "      <th>user</th>\n",
       "      <th>geo</th>\n",
       "      <th>coordinates</th>\n",
       "      <th>place</th>\n",
       "      <th>contributors</th>\n",
       "      <th>is_quote_status</th>\n",
       "      <th>quoted_status_id</th>\n",
       "      <th>quoted_status_id_str</th>\n",
       "      <th>quoted_status_permalink</th>\n",
       "      <th>quoted_status</th>\n",
       "      <th>retweet_count</th>\n",
       "      <th>favorite_count</th>\n",
       "      <th>favorited</th>\n",
       "      <th>retweeted</th>\n",
       "      <th>possibly_sensitive</th>\n",
       "      <th>lang</th>\n",
       "      <th>retweeted_status</th>\n",
       "      <th>extended_entities</th>\n",
       "      <th>withheld_in_countries</th>\n",
       "    </tr>\n",
       "  </thead>\n",
       "  <tbody>\n",
       "    <tr>\n",
       "      <th>0</th>\n",
       "      <td>Tue Sep 29 23:59:56 +0000 2020</td>\n",
       "      <td>1311093385688735744</td>\n",
       "      <td>1311093385688735744</td>\n",
       "      <td>Biden a professional debater??  Hardly!! More ...</td>\n",
       "      <td>False</td>\n",
       "      <td>[0, 71]</td>\n",
       "      <td>{'hashtags': [], 'symbols': [], 'user_mentions...</td>\n",
       "      <td>&lt;a href=\"https://mobile.twitter.com\" rel=\"nofo...</td>\n",
       "      <td>NaN</td>\n",
       "      <td>None</td>\n",
       "      <td>NaN</td>\n",
       "      <td>None</td>\n",
       "      <td>None</td>\n",
       "      <td>{'id': 117904481, 'id_str': '117904481', 'name...</td>\n",
       "      <td>None</td>\n",
       "      <td>None</td>\n",
       "      <td>None</td>\n",
       "      <td>None</td>\n",
       "      <td>True</td>\n",
       "      <td>1.311081e+18</td>\n",
       "      <td>1311081374510710784</td>\n",
       "      <td>{'url': 'https://t.co/cQuxzexXYt', 'expanded':...</td>\n",
       "      <td>{'created_at': 'Tue Sep 29 23:12:13 +0000 2020...</td>\n",
       "      <td>0</td>\n",
       "      <td>0</td>\n",
       "      <td>False</td>\n",
       "      <td>False</td>\n",
       "      <td>False</td>\n",
       "      <td>en</td>\n",
       "      <td>NaN</td>\n",
       "      <td>NaN</td>\n",
       "      <td>NaN</td>\n",
       "    </tr>\n",
       "    <tr>\n",
       "      <th>1</th>\n",
       "      <td>Tue Sep 29 23:59:58 +0000 2020</td>\n",
       "      <td>1311093394400333824</td>\n",
       "      <td>1311093394400333824</td>\n",
       "      <td>RT @DarDar458: #PresidentialDebate #Debates202...</td>\n",
       "      <td>False</td>\n",
       "      <td>[0, 73]</td>\n",
       "      <td>{'hashtags': [{'text': 'PresidentialDebate', '...</td>\n",
       "      <td>&lt;a href=\"http://twitter.com/download/iphone\" r...</td>\n",
       "      <td>NaN</td>\n",
       "      <td>None</td>\n",
       "      <td>NaN</td>\n",
       "      <td>None</td>\n",
       "      <td>None</td>\n",
       "      <td>{'id': 30140760, 'id_str': '30140760', 'name':...</td>\n",
       "      <td>None</td>\n",
       "      <td>None</td>\n",
       "      <td>None</td>\n",
       "      <td>None</td>\n",
       "      <td>True</td>\n",
       "      <td>1.311068e+18</td>\n",
       "      <td>1311068232976080896</td>\n",
       "      <td>{'url': 'https://t.co/GOhLaDJLeN', 'expanded':...</td>\n",
       "      <td>NaN</td>\n",
       "      <td>1</td>\n",
       "      <td>0</td>\n",
       "      <td>False</td>\n",
       "      <td>False</td>\n",
       "      <td>NaN</td>\n",
       "      <td>und</td>\n",
       "      <td>{'created_at': 'Tue Sep 29 23:55:42 +0000 2020...</td>\n",
       "      <td>NaN</td>\n",
       "      <td>NaN</td>\n",
       "    </tr>\n",
       "    <tr>\n",
       "      <th>2</th>\n",
       "      <td>Wed Sep 30 00:00:00 +0000 2020</td>\n",
       "      <td>1311093401652277252</td>\n",
       "      <td>1311093401652277252</td>\n",
       "      <td>How can Biden stand a chance against Trump in ...</td>\n",
       "      <td>False</td>\n",
       "      <td>[0, 280]</td>\n",
       "      <td>{'hashtags': [{'text': 'VarneyCo', 'indices': ...</td>\n",
       "      <td>&lt;a href=\"https://studio.twitter.com\" rel=\"nofo...</td>\n",
       "      <td>NaN</td>\n",
       "      <td>None</td>\n",
       "      <td>NaN</td>\n",
       "      <td>None</td>\n",
       "      <td>None</td>\n",
       "      <td>{'id': 281610530, 'id_str': '281610530', 'name...</td>\n",
       "      <td>None</td>\n",
       "      <td>None</td>\n",
       "      <td>None</td>\n",
       "      <td>None</td>\n",
       "      <td>False</td>\n",
       "      <td>NaN</td>\n",
       "      <td>NaN</td>\n",
       "      <td>NaN</td>\n",
       "      <td>NaN</td>\n",
       "      <td>25</td>\n",
       "      <td>100</td>\n",
       "      <td>False</td>\n",
       "      <td>False</td>\n",
       "      <td>False</td>\n",
       "      <td>en</td>\n",
       "      <td>NaN</td>\n",
       "      <td>{'media': [{'id': 1310969778111217665, 'id_str...</td>\n",
       "      <td>NaN</td>\n",
       "    </tr>\n",
       "    <tr>\n",
       "      <th>3</th>\n",
       "      <td>Wed Sep 30 00:00:02 +0000 2020</td>\n",
       "      <td>1311093410737070086</td>\n",
       "      <td>1311093410737070086</td>\n",
       "      <td>RT @abbydphillip: Very reminiscent of pre-2018...</td>\n",
       "      <td>False</td>\n",
       "      <td>[0, 108]</td>\n",
       "      <td>{'hashtags': [], 'symbols': [], 'user_mentions...</td>\n",
       "      <td>&lt;a href=\"http://twitter.com/download/iphone\" r...</td>\n",
       "      <td>NaN</td>\n",
       "      <td>None</td>\n",
       "      <td>NaN</td>\n",
       "      <td>None</td>\n",
       "      <td>None</td>\n",
       "      <td>{'id': 88223320, 'id_str': '88223320', 'name':...</td>\n",
       "      <td>None</td>\n",
       "      <td>None</td>\n",
       "      <td>None</td>\n",
       "      <td>None</td>\n",
       "      <td>True</td>\n",
       "      <td>1.311075e+18</td>\n",
       "      <td>1311075316996157441</td>\n",
       "      <td>{'url': 'https://t.co/CdP89boyMD', 'expanded':...</td>\n",
       "      <td>NaN</td>\n",
       "      <td>351</td>\n",
       "      <td>0</td>\n",
       "      <td>False</td>\n",
       "      <td>False</td>\n",
       "      <td>NaN</td>\n",
       "      <td>en</td>\n",
       "      <td>{'created_at': 'Tue Sep 29 23:00:28 +0000 2020...</td>\n",
       "      <td>NaN</td>\n",
       "      <td>NaN</td>\n",
       "    </tr>\n",
       "    <tr>\n",
       "      <th>4</th>\n",
       "      <td>Wed Sep 30 00:00:04 +0000 2020</td>\n",
       "      <td>1311093419100561408</td>\n",
       "      <td>1311093419100561408</td>\n",
       "      <td>RT @RudyGiuliani: Why was Corrupt Biden’s son ...</td>\n",
       "      <td>False</td>\n",
       "      <td>[0, 110]</td>\n",
       "      <td>{'hashtags': [], 'symbols': [], 'user_mentions...</td>\n",
       "      <td>&lt;a href=\"http://twitter.com/download/iphone\" r...</td>\n",
       "      <td>NaN</td>\n",
       "      <td>None</td>\n",
       "      <td>NaN</td>\n",
       "      <td>None</td>\n",
       "      <td>None</td>\n",
       "      <td>{'id': 44295160, 'id_str': '44295160', 'name':...</td>\n",
       "      <td>None</td>\n",
       "      <td>None</td>\n",
       "      <td>None</td>\n",
       "      <td>None</td>\n",
       "      <td>False</td>\n",
       "      <td>NaN</td>\n",
       "      <td>NaN</td>\n",
       "      <td>NaN</td>\n",
       "      <td>NaN</td>\n",
       "      <td>15672</td>\n",
       "      <td>0</td>\n",
       "      <td>False</td>\n",
       "      <td>False</td>\n",
       "      <td>NaN</td>\n",
       "      <td>en</td>\n",
       "      <td>{'created_at': 'Tue Sep 29 19:07:59 +0000 2020...</td>\n",
       "      <td>NaN</td>\n",
       "      <td>NaN</td>\n",
       "    </tr>\n",
       "  </tbody>\n",
       "</table>\n",
       "</div>"
      ],
      "text/plain": [
       "                       created_at                   id               id_str  \\\n",
       "0  Tue Sep 29 23:59:56 +0000 2020  1311093385688735744  1311093385688735744   \n",
       "1  Tue Sep 29 23:59:58 +0000 2020  1311093394400333824  1311093394400333824   \n",
       "2  Wed Sep 30 00:00:00 +0000 2020  1311093401652277252  1311093401652277252   \n",
       "3  Wed Sep 30 00:00:02 +0000 2020  1311093410737070086  1311093410737070086   \n",
       "4  Wed Sep 30 00:00:04 +0000 2020  1311093419100561408  1311093419100561408   \n",
       "\n",
       "                                           full_text  truncated  \\\n",
       "0  Biden a professional debater??  Hardly!! More ...      False   \n",
       "1  RT @DarDar458: #PresidentialDebate #Debates202...      False   \n",
       "2  How can Biden stand a chance against Trump in ...      False   \n",
       "3  RT @abbydphillip: Very reminiscent of pre-2018...      False   \n",
       "4  RT @RudyGiuliani: Why was Corrupt Biden’s son ...      False   \n",
       "\n",
       "  display_text_range                                           entities  \\\n",
       "0            [0, 71]  {'hashtags': [], 'symbols': [], 'user_mentions...   \n",
       "1            [0, 73]  {'hashtags': [{'text': 'PresidentialDebate', '...   \n",
       "2           [0, 280]  {'hashtags': [{'text': 'VarneyCo', 'indices': ...   \n",
       "3           [0, 108]  {'hashtags': [], 'symbols': [], 'user_mentions...   \n",
       "4           [0, 110]  {'hashtags': [], 'symbols': [], 'user_mentions...   \n",
       "\n",
       "                                              source  in_reply_to_status_id  \\\n",
       "0  <a href=\"https://mobile.twitter.com\" rel=\"nofo...                    NaN   \n",
       "1  <a href=\"http://twitter.com/download/iphone\" r...                    NaN   \n",
       "2  <a href=\"https://studio.twitter.com\" rel=\"nofo...                    NaN   \n",
       "3  <a href=\"http://twitter.com/download/iphone\" r...                    NaN   \n",
       "4  <a href=\"http://twitter.com/download/iphone\" r...                    NaN   \n",
       "\n",
       "  in_reply_to_status_id_str  in_reply_to_user_id in_reply_to_user_id_str  \\\n",
       "0                      None                  NaN                    None   \n",
       "1                      None                  NaN                    None   \n",
       "2                      None                  NaN                    None   \n",
       "3                      None                  NaN                    None   \n",
       "4                      None                  NaN                    None   \n",
       "\n",
       "  in_reply_to_screen_name                                               user  \\\n",
       "0                    None  {'id': 117904481, 'id_str': '117904481', 'name...   \n",
       "1                    None  {'id': 30140760, 'id_str': '30140760', 'name':...   \n",
       "2                    None  {'id': 281610530, 'id_str': '281610530', 'name...   \n",
       "3                    None  {'id': 88223320, 'id_str': '88223320', 'name':...   \n",
       "4                    None  {'id': 44295160, 'id_str': '44295160', 'name':...   \n",
       "\n",
       "    geo coordinates place contributors  is_quote_status  quoted_status_id  \\\n",
       "0  None        None  None         None             True      1.311081e+18   \n",
       "1  None        None  None         None             True      1.311068e+18   \n",
       "2  None        None  None         None            False               NaN   \n",
       "3  None        None  None         None             True      1.311075e+18   \n",
       "4  None        None  None         None            False               NaN   \n",
       "\n",
       "  quoted_status_id_str                            quoted_status_permalink  \\\n",
       "0  1311081374510710784  {'url': 'https://t.co/cQuxzexXYt', 'expanded':...   \n",
       "1  1311068232976080896  {'url': 'https://t.co/GOhLaDJLeN', 'expanded':...   \n",
       "2                  NaN                                                NaN   \n",
       "3  1311075316996157441  {'url': 'https://t.co/CdP89boyMD', 'expanded':...   \n",
       "4                  NaN                                                NaN   \n",
       "\n",
       "                                       quoted_status  retweet_count  \\\n",
       "0  {'created_at': 'Tue Sep 29 23:12:13 +0000 2020...              0   \n",
       "1                                                NaN              1   \n",
       "2                                                NaN             25   \n",
       "3                                                NaN            351   \n",
       "4                                                NaN          15672   \n",
       "\n",
       "   favorite_count  favorited  retweeted possibly_sensitive lang  \\\n",
       "0               0      False      False              False   en   \n",
       "1               0      False      False                NaN  und   \n",
       "2             100      False      False              False   en   \n",
       "3               0      False      False                NaN   en   \n",
       "4               0      False      False                NaN   en   \n",
       "\n",
       "                                    retweeted_status  \\\n",
       "0                                                NaN   \n",
       "1  {'created_at': 'Tue Sep 29 23:55:42 +0000 2020...   \n",
       "2                                                NaN   \n",
       "3  {'created_at': 'Tue Sep 29 23:00:28 +0000 2020...   \n",
       "4  {'created_at': 'Tue Sep 29 19:07:59 +0000 2020...   \n",
       "\n",
       "                                   extended_entities withheld_in_countries  \n",
       "0                                                NaN                   NaN  \n",
       "1                                                NaN                   NaN  \n",
       "2  {'media': [{'id': 1310969778111217665, 'id_str...                   NaN  \n",
       "3                                                NaN                   NaN  \n",
       "4                                                NaN                   NaN  "
      ]
     },
     "execution_count": 4,
     "metadata": {},
     "output_type": "execute_result"
    }
   ],
   "source": [
    "tweet_df.head()"
   ]
  },
  {
   "cell_type": "code",
   "execution_count": 5,
   "metadata": {},
   "outputs": [
    {
     "data": {
      "text/plain": [
       "(140337, 32)"
      ]
     },
     "execution_count": 5,
     "metadata": {},
     "output_type": "execute_result"
    }
   ],
   "source": [
    "tweet_df.shape"
   ]
  },
  {
   "cell_type": "code",
   "execution_count": 6,
   "metadata": {},
   "outputs": [
    {
     "data": {
      "text/html": [
       "<div>\n",
       "<style scoped>\n",
       "    .dataframe tbody tr th:only-of-type {\n",
       "        vertical-align: middle;\n",
       "    }\n",
       "\n",
       "    .dataframe tbody tr th {\n",
       "        vertical-align: top;\n",
       "    }\n",
       "\n",
       "    .dataframe thead th {\n",
       "        text-align: right;\n",
       "    }\n",
       "</style>\n",
       "<table border=\"1\" class=\"dataframe\">\n",
       "  <thead>\n",
       "    <tr style=\"text-align: right;\">\n",
       "      <th></th>\n",
       "      <th>id</th>\n",
       "      <th>in_reply_to_status_id</th>\n",
       "      <th>in_reply_to_user_id</th>\n",
       "      <th>quoted_status_id</th>\n",
       "      <th>retweet_count</th>\n",
       "      <th>favorite_count</th>\n",
       "    </tr>\n",
       "  </thead>\n",
       "  <tbody>\n",
       "    <tr>\n",
       "      <th>count</th>\n",
       "      <td>1.403370e+05</td>\n",
       "      <td>1.911200e+04</td>\n",
       "      <td>2.018100e+04</td>\n",
       "      <td>2.445300e+04</td>\n",
       "      <td>140337.000000</td>\n",
       "      <td>140337.000000</td>\n",
       "    </tr>\n",
       "    <tr>\n",
       "      <th>mean</th>\n",
       "      <td>1.311632e+18</td>\n",
       "      <td>1.311030e+18</td>\n",
       "      <td>2.720200e+17</td>\n",
       "      <td>1.292243e+18</td>\n",
       "      <td>21028.815494</td>\n",
       "      <td>4.915340</td>\n",
       "    </tr>\n",
       "    <tr>\n",
       "      <th>std</th>\n",
       "      <td>3.196392e+14</td>\n",
       "      <td>1.499556e+16</td>\n",
       "      <td>4.697827e+17</td>\n",
       "      <td>1.109337e+17</td>\n",
       "      <td>66438.946038</td>\n",
       "      <td>661.171293</td>\n",
       "    </tr>\n",
       "    <tr>\n",
       "      <th>min</th>\n",
       "      <td>1.311093e+18</td>\n",
       "      <td>7.109434e+17</td>\n",
       "      <td>1.688000e+03</td>\n",
       "      <td>7.464299e+09</td>\n",
       "      <td>0.000000</td>\n",
       "      <td>0.000000</td>\n",
       "    </tr>\n",
       "    <tr>\n",
       "      <th>25%</th>\n",
       "      <td>1.311355e+18</td>\n",
       "      <td>1.311300e+18</td>\n",
       "      <td>2.507388e+07</td>\n",
       "      <td>1.311144e+18</td>\n",
       "      <td>2.000000</td>\n",
       "      <td>0.000000</td>\n",
       "    </tr>\n",
       "    <tr>\n",
       "      <th>50%</th>\n",
       "      <td>1.311635e+18</td>\n",
       "      <td>1.311515e+18</td>\n",
       "      <td>1.949458e+08</td>\n",
       "      <td>1.311459e+18</td>\n",
       "      <td>859.000000</td>\n",
       "      <td>0.000000</td>\n",
       "    </tr>\n",
       "    <tr>\n",
       "      <th>75%</th>\n",
       "      <td>1.311907e+18</td>\n",
       "      <td>1.311869e+18</td>\n",
       "      <td>7.296761e+17</td>\n",
       "      <td>1.311789e+18</td>\n",
       "      <td>11553.000000</td>\n",
       "      <td>0.000000</td>\n",
       "    </tr>\n",
       "    <tr>\n",
       "      <th>max</th>\n",
       "      <td>1.312181e+18</td>\n",
       "      <td>1.312180e+18</td>\n",
       "      <td>1.312070e+18</td>\n",
       "      <td>1.312178e+18</td>\n",
       "      <td>452964.000000</td>\n",
       "      <td>189361.000000</td>\n",
       "    </tr>\n",
       "  </tbody>\n",
       "</table>\n",
       "</div>"
      ],
      "text/plain": [
       "                 id  in_reply_to_status_id  in_reply_to_user_id  \\\n",
       "count  1.403370e+05           1.911200e+04         2.018100e+04   \n",
       "mean   1.311632e+18           1.311030e+18         2.720200e+17   \n",
       "std    3.196392e+14           1.499556e+16         4.697827e+17   \n",
       "min    1.311093e+18           7.109434e+17         1.688000e+03   \n",
       "25%    1.311355e+18           1.311300e+18         2.507388e+07   \n",
       "50%    1.311635e+18           1.311515e+18         1.949458e+08   \n",
       "75%    1.311907e+18           1.311869e+18         7.296761e+17   \n",
       "max    1.312181e+18           1.312180e+18         1.312070e+18   \n",
       "\n",
       "       quoted_status_id  retweet_count  favorite_count  \n",
       "count      2.445300e+04  140337.000000   140337.000000  \n",
       "mean       1.292243e+18   21028.815494        4.915340  \n",
       "std        1.109337e+17   66438.946038      661.171293  \n",
       "min        7.464299e+09       0.000000        0.000000  \n",
       "25%        1.311144e+18       2.000000        0.000000  \n",
       "50%        1.311459e+18     859.000000        0.000000  \n",
       "75%        1.311789e+18   11553.000000        0.000000  \n",
       "max        1.312178e+18  452964.000000   189361.000000  "
      ]
     },
     "execution_count": 6,
     "metadata": {},
     "output_type": "execute_result"
    }
   ],
   "source": [
    "tweet_df.describe()"
   ]
  },
  {
   "cell_type": "code",
   "execution_count": 7,
   "metadata": {},
   "outputs": [
    {
     "name": "stdout",
     "output_type": "stream",
     "text": [
      "<class 'pandas.core.frame.DataFrame'>\n",
      "RangeIndex: 140337 entries, 0 to 140336\n",
      "Data columns (total 32 columns):\n",
      " #   Column                     Non-Null Count   Dtype  \n",
      "---  ------                     --------------   -----  \n",
      " 0   created_at                 140337 non-null  object \n",
      " 1   id                         140337 non-null  int64  \n",
      " 2   id_str                     140337 non-null  object \n",
      " 3   full_text                  140337 non-null  object \n",
      " 4   truncated                  140337 non-null  bool   \n",
      " 5   display_text_range         140337 non-null  object \n",
      " 6   entities                   140337 non-null  object \n",
      " 7   source                     140337 non-null  object \n",
      " 8   in_reply_to_status_id      19112 non-null   float64\n",
      " 9   in_reply_to_status_id_str  19112 non-null   object \n",
      " 10  in_reply_to_user_id        20181 non-null   float64\n",
      " 11  in_reply_to_user_id_str    20181 non-null   object \n",
      " 12  in_reply_to_screen_name    20181 non-null   object \n",
      " 13  user                       140337 non-null  object \n",
      " 14  geo                        2 non-null       object \n",
      " 15  coordinates                2 non-null       object \n",
      " 16  place                      778 non-null     object \n",
      " 17  contributors               0 non-null       object \n",
      " 18  is_quote_status            140337 non-null  bool   \n",
      " 19  quoted_status_id           24453 non-null   float64\n",
      " 20  quoted_status_id_str       24453 non-null   object \n",
      " 21  quoted_status_permalink    24452 non-null   object \n",
      " 22  quoted_status              7572 non-null    object \n",
      " 23  retweet_count              140337 non-null  int64  \n",
      " 24  favorite_count             140337 non-null  int64  \n",
      " 25  favorited                  140337 non-null  bool   \n",
      " 26  retweeted                  140337 non-null  bool   \n",
      " 27  possibly_sensitive         32333 non-null   object \n",
      " 28  lang                       140337 non-null  object \n",
      " 29  retweeted_status           106900 non-null  object \n",
      " 30  extended_entities          14628 non-null   object \n",
      " 31  withheld_in_countries      36 non-null      object \n",
      "dtypes: bool(4), float64(3), int64(3), object(22)\n",
      "memory usage: 30.5+ MB\n"
     ]
    }
   ],
   "source": [
    "tweet_df.info()"
   ]
  },
  {
   "cell_type": "markdown",
   "metadata": {},
   "source": [
    "## Takeout obviously needless columns"
   ]
  },
  {
   "cell_type": "code",
   "execution_count": 8,
   "metadata": {},
   "outputs": [
    {
     "data": {
      "text/plain": [
       "0         None\n",
       "1         None\n",
       "2         None\n",
       "3         None\n",
       "4         None\n",
       "          ... \n",
       "140332    None\n",
       "140333    None\n",
       "140334    None\n",
       "140335    None\n",
       "140336    None\n",
       "Name: contributors, Length: 140337, dtype: object"
      ]
     },
     "execution_count": 8,
     "metadata": {},
     "output_type": "execute_result"
    }
   ],
   "source": [
    "tweet_df.contributors"
   ]
  },
  {
   "cell_type": "code",
   "execution_count": 9,
   "metadata": {},
   "outputs": [
    {
     "data": {
      "text/plain": [
       "Series([], Name: contributors, dtype: int64)"
      ]
     },
     "execution_count": 9,
     "metadata": {},
     "output_type": "execute_result"
    }
   ],
   "source": [
    "tweet_df.contributors.value_counts()"
   ]
  },
  {
   "cell_type": "code",
   "execution_count": 10,
   "metadata": {},
   "outputs": [],
   "source": [
    "def observe_where_notNAN(df, col):\n",
    "    mask = df[col].apply(lambda x: type(x).__name__) != 'NoneType'\n",
    "    out = df[mask].copy()\n",
    "    return out"
   ]
  },
  {
   "cell_type": "code",
   "execution_count": 11,
   "metadata": {},
   "outputs": [
    {
     "data": {
      "text/html": [
       "<div>\n",
       "<style scoped>\n",
       "    .dataframe tbody tr th:only-of-type {\n",
       "        vertical-align: middle;\n",
       "    }\n",
       "\n",
       "    .dataframe tbody tr th {\n",
       "        vertical-align: top;\n",
       "    }\n",
       "\n",
       "    .dataframe thead th {\n",
       "        text-align: right;\n",
       "    }\n",
       "</style>\n",
       "<table border=\"1\" class=\"dataframe\">\n",
       "  <thead>\n",
       "    <tr style=\"text-align: right;\">\n",
       "      <th></th>\n",
       "      <th>created_at</th>\n",
       "      <th>id</th>\n",
       "      <th>id_str</th>\n",
       "      <th>full_text</th>\n",
       "      <th>truncated</th>\n",
       "      <th>display_text_range</th>\n",
       "      <th>entities</th>\n",
       "      <th>source</th>\n",
       "      <th>in_reply_to_status_id</th>\n",
       "      <th>in_reply_to_status_id_str</th>\n",
       "      <th>in_reply_to_user_id</th>\n",
       "      <th>in_reply_to_user_id_str</th>\n",
       "      <th>in_reply_to_screen_name</th>\n",
       "      <th>user</th>\n",
       "      <th>geo</th>\n",
       "      <th>coordinates</th>\n",
       "      <th>place</th>\n",
       "      <th>contributors</th>\n",
       "      <th>is_quote_status</th>\n",
       "      <th>quoted_status_id</th>\n",
       "      <th>quoted_status_id_str</th>\n",
       "      <th>quoted_status_permalink</th>\n",
       "      <th>quoted_status</th>\n",
       "      <th>retweet_count</th>\n",
       "      <th>favorite_count</th>\n",
       "      <th>favorited</th>\n",
       "      <th>retweeted</th>\n",
       "      <th>possibly_sensitive</th>\n",
       "      <th>lang</th>\n",
       "      <th>retweeted_status</th>\n",
       "      <th>extended_entities</th>\n",
       "      <th>withheld_in_countries</th>\n",
       "    </tr>\n",
       "  </thead>\n",
       "  <tbody>\n",
       "    <tr>\n",
       "      <th>30188</th>\n",
       "      <td>Wed Sep 30 14:44:24 +0000 2020</td>\n",
       "      <td>1311315968908554241</td>\n",
       "      <td>1311315968908554241</td>\n",
       "      <td>Donald Trump refused to denounce white suprema...</td>\n",
       "      <td>False</td>\n",
       "      <td>[0, 173]</td>\n",
       "      <td>{'hashtags': [{'text': 'BidenHarris2020', 'ind...</td>\n",
       "      <td>&lt;a href=\"http://instagram.com\" rel=\"nofollow\"&gt;...</td>\n",
       "      <td>NaN</td>\n",
       "      <td>None</td>\n",
       "      <td>NaN</td>\n",
       "      <td>None</td>\n",
       "      <td>None</td>\n",
       "      <td>{'id': 14213115, 'id_str': '14213115', 'name':...</td>\n",
       "      <td>{'type': 'Point', 'coordinates': [33.0, -83.5]}</td>\n",
       "      <td>{'type': 'Point', 'coordinates': [-83.5, 33.0]}</td>\n",
       "      <td>{'id': '7142eb97ae21e839', 'url': 'https://api...</td>\n",
       "      <td>None</td>\n",
       "      <td>False</td>\n",
       "      <td>NaN</td>\n",
       "      <td>NaN</td>\n",
       "      <td>NaN</td>\n",
       "      <td>NaN</td>\n",
       "      <td>0</td>\n",
       "      <td>0</td>\n",
       "      <td>False</td>\n",
       "      <td>False</td>\n",
       "      <td>False</td>\n",
       "      <td>en</td>\n",
       "      <td>NaN</td>\n",
       "      <td>NaN</td>\n",
       "      <td>NaN</td>\n",
       "    </tr>\n",
       "    <tr>\n",
       "      <th>111464</th>\n",
       "      <td>Fri Oct 02 09:04:54 +0000 2020</td>\n",
       "      <td>1311955307036278784</td>\n",
       "      <td>1311955307036278784</td>\n",
       "      <td>Trump 👥 🙏 💙 🇺🇸 🌎 @ United States https://t.co/...</td>\n",
       "      <td>False</td>\n",
       "      <td>[0, 56]</td>\n",
       "      <td>{'hashtags': [], 'symbols': [], 'user_mentions...</td>\n",
       "      <td>&lt;a href=\"http://instagram.com\" rel=\"nofollow\"&gt;...</td>\n",
       "      <td>NaN</td>\n",
       "      <td>None</td>\n",
       "      <td>NaN</td>\n",
       "      <td>None</td>\n",
       "      <td>None</td>\n",
       "      <td>{'id': 964795553610588162, 'id_str': '96479555...</td>\n",
       "      <td>{'type': 'Point', 'coordinates': [40.0, -100.0]}</td>\n",
       "      <td>{'type': 'Point', 'coordinates': [-100.0, 40.0]}</td>\n",
       "      <td>{'id': '27c45d804c777999', 'url': 'https://api...</td>\n",
       "      <td>None</td>\n",
       "      <td>False</td>\n",
       "      <td>NaN</td>\n",
       "      <td>NaN</td>\n",
       "      <td>NaN</td>\n",
       "      <td>NaN</td>\n",
       "      <td>0</td>\n",
       "      <td>0</td>\n",
       "      <td>False</td>\n",
       "      <td>False</td>\n",
       "      <td>False</td>\n",
       "      <td>en</td>\n",
       "      <td>NaN</td>\n",
       "      <td>NaN</td>\n",
       "      <td>NaN</td>\n",
       "    </tr>\n",
       "  </tbody>\n",
       "</table>\n",
       "</div>"
      ],
      "text/plain": [
       "                            created_at                   id  \\\n",
       "30188   Wed Sep 30 14:44:24 +0000 2020  1311315968908554241   \n",
       "111464  Fri Oct 02 09:04:54 +0000 2020  1311955307036278784   \n",
       "\n",
       "                     id_str  \\\n",
       "30188   1311315968908554241   \n",
       "111464  1311955307036278784   \n",
       "\n",
       "                                                full_text  truncated  \\\n",
       "30188   Donald Trump refused to denounce white suprema...      False   \n",
       "111464  Trump 👥 🙏 💙 🇺🇸 🌎 @ United States https://t.co/...      False   \n",
       "\n",
       "       display_text_range                                           entities  \\\n",
       "30188            [0, 173]  {'hashtags': [{'text': 'BidenHarris2020', 'ind...   \n",
       "111464            [0, 56]  {'hashtags': [], 'symbols': [], 'user_mentions...   \n",
       "\n",
       "                                                   source  \\\n",
       "30188   <a href=\"http://instagram.com\" rel=\"nofollow\">...   \n",
       "111464  <a href=\"http://instagram.com\" rel=\"nofollow\">...   \n",
       "\n",
       "        in_reply_to_status_id in_reply_to_status_id_str  in_reply_to_user_id  \\\n",
       "30188                     NaN                      None                  NaN   \n",
       "111464                    NaN                      None                  NaN   \n",
       "\n",
       "       in_reply_to_user_id_str in_reply_to_screen_name  \\\n",
       "30188                     None                    None   \n",
       "111464                    None                    None   \n",
       "\n",
       "                                                     user  \\\n",
       "30188   {'id': 14213115, 'id_str': '14213115', 'name':...   \n",
       "111464  {'id': 964795553610588162, 'id_str': '96479555...   \n",
       "\n",
       "                                                     geo  \\\n",
       "30188    {'type': 'Point', 'coordinates': [33.0, -83.5]}   \n",
       "111464  {'type': 'Point', 'coordinates': [40.0, -100.0]}   \n",
       "\n",
       "                                             coordinates  \\\n",
       "30188    {'type': 'Point', 'coordinates': [-83.5, 33.0]}   \n",
       "111464  {'type': 'Point', 'coordinates': [-100.0, 40.0]}   \n",
       "\n",
       "                                                    place contributors  \\\n",
       "30188   {'id': '7142eb97ae21e839', 'url': 'https://api...         None   \n",
       "111464  {'id': '27c45d804c777999', 'url': 'https://api...         None   \n",
       "\n",
       "        is_quote_status  quoted_status_id quoted_status_id_str  \\\n",
       "30188             False               NaN                  NaN   \n",
       "111464            False               NaN                  NaN   \n",
       "\n",
       "       quoted_status_permalink quoted_status  retweet_count  favorite_count  \\\n",
       "30188                      NaN           NaN              0               0   \n",
       "111464                     NaN           NaN              0               0   \n",
       "\n",
       "        favorited  retweeted possibly_sensitive lang retweeted_status  \\\n",
       "30188       False      False              False   en              NaN   \n",
       "111464      False      False              False   en              NaN   \n",
       "\n",
       "       extended_entities withheld_in_countries  \n",
       "30188                NaN                   NaN  \n",
       "111464               NaN                   NaN  "
      ]
     },
     "execution_count": 11,
     "metadata": {},
     "output_type": "execute_result"
    }
   ],
   "source": [
    "observe_where_notNAN(tweet_df, 'geo')"
   ]
  },
  {
   "cell_type": "code",
   "execution_count": 12,
   "metadata": {},
   "outputs": [
    {
     "data": {
      "text/html": [
       "<div>\n",
       "<style scoped>\n",
       "    .dataframe tbody tr th:only-of-type {\n",
       "        vertical-align: middle;\n",
       "    }\n",
       "\n",
       "    .dataframe tbody tr th {\n",
       "        vertical-align: top;\n",
       "    }\n",
       "\n",
       "    .dataframe thead th {\n",
       "        text-align: right;\n",
       "    }\n",
       "</style>\n",
       "<table border=\"1\" class=\"dataframe\">\n",
       "  <thead>\n",
       "    <tr style=\"text-align: right;\">\n",
       "      <th></th>\n",
       "      <th>created_at</th>\n",
       "      <th>id</th>\n",
       "      <th>id_str</th>\n",
       "      <th>full_text</th>\n",
       "      <th>truncated</th>\n",
       "      <th>display_text_range</th>\n",
       "      <th>entities</th>\n",
       "      <th>source</th>\n",
       "      <th>in_reply_to_status_id</th>\n",
       "      <th>in_reply_to_status_id_str</th>\n",
       "      <th>in_reply_to_user_id</th>\n",
       "      <th>in_reply_to_user_id_str</th>\n",
       "      <th>in_reply_to_screen_name</th>\n",
       "      <th>user</th>\n",
       "      <th>geo</th>\n",
       "      <th>coordinates</th>\n",
       "      <th>place</th>\n",
       "      <th>contributors</th>\n",
       "      <th>is_quote_status</th>\n",
       "      <th>quoted_status_id</th>\n",
       "      <th>quoted_status_id_str</th>\n",
       "      <th>quoted_status_permalink</th>\n",
       "      <th>quoted_status</th>\n",
       "      <th>retweet_count</th>\n",
       "      <th>favorite_count</th>\n",
       "      <th>favorited</th>\n",
       "      <th>retweeted</th>\n",
       "      <th>possibly_sensitive</th>\n",
       "      <th>lang</th>\n",
       "      <th>retweeted_status</th>\n",
       "      <th>extended_entities</th>\n",
       "      <th>withheld_in_countries</th>\n",
       "    </tr>\n",
       "  </thead>\n",
       "  <tbody>\n",
       "    <tr>\n",
       "      <th>30188</th>\n",
       "      <td>Wed Sep 30 14:44:24 +0000 2020</td>\n",
       "      <td>1311315968908554241</td>\n",
       "      <td>1311315968908554241</td>\n",
       "      <td>Donald Trump refused to denounce white suprema...</td>\n",
       "      <td>False</td>\n",
       "      <td>[0, 173]</td>\n",
       "      <td>{'hashtags': [{'text': 'BidenHarris2020', 'ind...</td>\n",
       "      <td>&lt;a href=\"http://instagram.com\" rel=\"nofollow\"&gt;...</td>\n",
       "      <td>NaN</td>\n",
       "      <td>None</td>\n",
       "      <td>NaN</td>\n",
       "      <td>None</td>\n",
       "      <td>None</td>\n",
       "      <td>{'id': 14213115, 'id_str': '14213115', 'name':...</td>\n",
       "      <td>{'type': 'Point', 'coordinates': [33.0, -83.5]}</td>\n",
       "      <td>{'type': 'Point', 'coordinates': [-83.5, 33.0]}</td>\n",
       "      <td>{'id': '7142eb97ae21e839', 'url': 'https://api...</td>\n",
       "      <td>None</td>\n",
       "      <td>False</td>\n",
       "      <td>NaN</td>\n",
       "      <td>NaN</td>\n",
       "      <td>NaN</td>\n",
       "      <td>NaN</td>\n",
       "      <td>0</td>\n",
       "      <td>0</td>\n",
       "      <td>False</td>\n",
       "      <td>False</td>\n",
       "      <td>False</td>\n",
       "      <td>en</td>\n",
       "      <td>NaN</td>\n",
       "      <td>NaN</td>\n",
       "      <td>NaN</td>\n",
       "    </tr>\n",
       "    <tr>\n",
       "      <th>111464</th>\n",
       "      <td>Fri Oct 02 09:04:54 +0000 2020</td>\n",
       "      <td>1311955307036278784</td>\n",
       "      <td>1311955307036278784</td>\n",
       "      <td>Trump 👥 🙏 💙 🇺🇸 🌎 @ United States https://t.co/...</td>\n",
       "      <td>False</td>\n",
       "      <td>[0, 56]</td>\n",
       "      <td>{'hashtags': [], 'symbols': [], 'user_mentions...</td>\n",
       "      <td>&lt;a href=\"http://instagram.com\" rel=\"nofollow\"&gt;...</td>\n",
       "      <td>NaN</td>\n",
       "      <td>None</td>\n",
       "      <td>NaN</td>\n",
       "      <td>None</td>\n",
       "      <td>None</td>\n",
       "      <td>{'id': 964795553610588162, 'id_str': '96479555...</td>\n",
       "      <td>{'type': 'Point', 'coordinates': [40.0, -100.0]}</td>\n",
       "      <td>{'type': 'Point', 'coordinates': [-100.0, 40.0]}</td>\n",
       "      <td>{'id': '27c45d804c777999', 'url': 'https://api...</td>\n",
       "      <td>None</td>\n",
       "      <td>False</td>\n",
       "      <td>NaN</td>\n",
       "      <td>NaN</td>\n",
       "      <td>NaN</td>\n",
       "      <td>NaN</td>\n",
       "      <td>0</td>\n",
       "      <td>0</td>\n",
       "      <td>False</td>\n",
       "      <td>False</td>\n",
       "      <td>False</td>\n",
       "      <td>en</td>\n",
       "      <td>NaN</td>\n",
       "      <td>NaN</td>\n",
       "      <td>NaN</td>\n",
       "    </tr>\n",
       "  </tbody>\n",
       "</table>\n",
       "</div>"
      ],
      "text/plain": [
       "                            created_at                   id  \\\n",
       "30188   Wed Sep 30 14:44:24 +0000 2020  1311315968908554241   \n",
       "111464  Fri Oct 02 09:04:54 +0000 2020  1311955307036278784   \n",
       "\n",
       "                     id_str  \\\n",
       "30188   1311315968908554241   \n",
       "111464  1311955307036278784   \n",
       "\n",
       "                                                full_text  truncated  \\\n",
       "30188   Donald Trump refused to denounce white suprema...      False   \n",
       "111464  Trump 👥 🙏 💙 🇺🇸 🌎 @ United States https://t.co/...      False   \n",
       "\n",
       "       display_text_range                                           entities  \\\n",
       "30188            [0, 173]  {'hashtags': [{'text': 'BidenHarris2020', 'ind...   \n",
       "111464            [0, 56]  {'hashtags': [], 'symbols': [], 'user_mentions...   \n",
       "\n",
       "                                                   source  \\\n",
       "30188   <a href=\"http://instagram.com\" rel=\"nofollow\">...   \n",
       "111464  <a href=\"http://instagram.com\" rel=\"nofollow\">...   \n",
       "\n",
       "        in_reply_to_status_id in_reply_to_status_id_str  in_reply_to_user_id  \\\n",
       "30188                     NaN                      None                  NaN   \n",
       "111464                    NaN                      None                  NaN   \n",
       "\n",
       "       in_reply_to_user_id_str in_reply_to_screen_name  \\\n",
       "30188                     None                    None   \n",
       "111464                    None                    None   \n",
       "\n",
       "                                                     user  \\\n",
       "30188   {'id': 14213115, 'id_str': '14213115', 'name':...   \n",
       "111464  {'id': 964795553610588162, 'id_str': '96479555...   \n",
       "\n",
       "                                                     geo  \\\n",
       "30188    {'type': 'Point', 'coordinates': [33.0, -83.5]}   \n",
       "111464  {'type': 'Point', 'coordinates': [40.0, -100.0]}   \n",
       "\n",
       "                                             coordinates  \\\n",
       "30188    {'type': 'Point', 'coordinates': [-83.5, 33.0]}   \n",
       "111464  {'type': 'Point', 'coordinates': [-100.0, 40.0]}   \n",
       "\n",
       "                                                    place contributors  \\\n",
       "30188   {'id': '7142eb97ae21e839', 'url': 'https://api...         None   \n",
       "111464  {'id': '27c45d804c777999', 'url': 'https://api...         None   \n",
       "\n",
       "        is_quote_status  quoted_status_id quoted_status_id_str  \\\n",
       "30188             False               NaN                  NaN   \n",
       "111464            False               NaN                  NaN   \n",
       "\n",
       "       quoted_status_permalink quoted_status  retweet_count  favorite_count  \\\n",
       "30188                      NaN           NaN              0               0   \n",
       "111464                     NaN           NaN              0               0   \n",
       "\n",
       "        favorited  retweeted possibly_sensitive lang retweeted_status  \\\n",
       "30188       False      False              False   en              NaN   \n",
       "111464      False      False              False   en              NaN   \n",
       "\n",
       "       extended_entities withheld_in_countries  \n",
       "30188                NaN                   NaN  \n",
       "111464               NaN                   NaN  "
      ]
     },
     "execution_count": 12,
     "metadata": {},
     "output_type": "execute_result"
    }
   ],
   "source": [
    "observe_where_notNAN(tweet_df, 'coordinates')"
   ]
  },
  {
   "cell_type": "code",
   "execution_count": 13,
   "metadata": {},
   "outputs": [],
   "source": [
    "tweet_df.drop(columns=['contributors', 'coordinates', 'geo'], inplace=True)"
   ]
  },
  {
   "cell_type": "code",
   "execution_count": 14,
   "metadata": {},
   "outputs": [
    {
     "data": {
      "text/plain": [
       "{'id': '5c937363480a2c19',\n",
       " 'url': 'https://api.twitter.com/1.1/geo/id/5c937363480a2c19.json',\n",
       " 'place_type': 'city',\n",
       " 'name': 'Cedar Park',\n",
       " 'full_name': 'Cedar Park, TX',\n",
       " 'country_code': 'US',\n",
       " 'country': 'United States',\n",
       " 'contained_within': [],\n",
       " 'bounding_box': {'type': 'Polygon',\n",
       "  'coordinates': [[[-97.8816996, 30.4555355],\n",
       "    [-97.74559, 30.4555355],\n",
       "    [-97.74559, 30.556381],\n",
       "    [-97.8816996, 30.556381]]]},\n",
       " 'attributes': {}}"
      ]
     },
     "execution_count": 14,
     "metadata": {},
     "output_type": "execute_result"
    }
   ],
   "source": [
    "place_df = observe_where_notNAN(tweet_df, 'place')\n",
    "place_df.place.iloc[0]"
   ]
  },
  {
   "cell_type": "code",
   "execution_count": 15,
   "metadata": {},
   "outputs": [
    {
     "data": {
      "text/plain": [
       "US    644\n",
       "CA     25\n",
       "GB     16\n",
       "AU     10\n",
       "BR      9\n",
       "NL      7\n",
       "CO      6\n",
       "AR      5\n",
       "NG      5\n",
       "DE      4\n",
       "IT      4\n",
       "ID      3\n",
       "KE      3\n",
       "FR      3\n",
       "JM      2\n",
       "ES      2\n",
       "IE      2\n",
       "AE      2\n",
       "TR      2\n",
       "CL      2\n",
       "MX      2\n",
       "BD      1\n",
       "ZW      1\n",
       "FI      1\n",
       "ZA      1\n",
       "EG      1\n",
       "IQ      1\n",
       "LU      1\n",
       "IN      1\n",
       "NZ      1\n",
       "SE      1\n",
       "CZ      1\n",
       "PY      1\n",
       "TW      1\n",
       "DJ      1\n",
       "UG      1\n",
       "DK      1\n",
       "GN      1\n",
       "CY      1\n",
       "VN      1\n",
       "BE      1\n",
       "Name: place, dtype: int64"
      ]
     },
     "execution_count": 15,
     "metadata": {},
     "output_type": "execute_result"
    }
   ],
   "source": [
    "#looks like we can drop this - also rows where not in US?\n",
    "place_df.place.apply(lambda d: d['country_code']).value_counts()"
   ]
  },
  {
   "cell_type": "code",
   "execution_count": 16,
   "metadata": {},
   "outputs": [],
   "source": [
    "tweet_df = tweet_df[tweet_df.place.apply(lambda d: d['country_code'] if type(d).__name__ != 'NoneType' else 'US') == 'US']"
   ]
  },
  {
   "cell_type": "code",
   "execution_count": 17,
   "metadata": {},
   "outputs": [
    {
     "ename": "TypeError",
     "evalue": "unhashable type: 'list'",
     "output_type": "error",
     "traceback": [
      "\u001b[0;31m---------------------------------------------------------------------------\u001b[0m",
      "\u001b[0;31mTypeError\u001b[0m                                 Traceback (most recent call last)",
      "\u001b[0;32mpandas/_libs/hashtable_class_helper.pxi\u001b[0m in \u001b[0;36mpandas._libs.hashtable.PyObjectHashTable.map_locations\u001b[0;34m()\u001b[0m\n",
      "\u001b[0;31mTypeError\u001b[0m: unhashable type: 'list'"
     ]
    },
    {
     "name": "stderr",
     "output_type": "stream",
     "text": [
      "Exception ignored in: 'pandas._libs.index.IndexEngine._call_map_locations'\n",
      "Traceback (most recent call last):\n",
      "  File \"pandas/_libs/hashtable_class_helper.pxi\", line 1709, in pandas._libs.hashtable.PyObjectHashTable.map_locations\n",
      "TypeError: unhashable type: 'list'\n"
     ]
    },
    {
     "data": {
      "text/plain": [
       "[DE]        23\n",
       "[DE, FR]    10\n",
       "[IN]         2\n",
       "[TR]         1\n",
       "Name: withheld_in_countries, dtype: int64"
      ]
     },
     "execution_count": 17,
     "metadata": {},
     "output_type": "execute_result"
    }
   ],
   "source": [
    "#additionally probably drop tweets with these rows?\n",
    "tweet_df.withheld_in_countries.value_counts()"
   ]
  },
  {
   "cell_type": "code",
   "execution_count": 18,
   "metadata": {},
   "outputs": [
    {
     "data": {
      "text/plain": [
       "'RT @carrieksada: You started this sh!t show Chris Wallace. You and your stupid question on White Supremacists. \\nYou are a total dumpster fi…'"
      ]
     },
     "execution_count": 18,
     "metadata": {},
     "output_type": "execute_result"
    }
   ],
   "source": [
    "tweet_df[tweet_df.withheld_in_countries.apply(lambda l: type(l).__name__=='list')].full_text.iloc[1]"
   ]
  },
  {
   "cell_type": "code",
   "execution_count": 19,
   "metadata": {},
   "outputs": [],
   "source": [
    "#maybe just super aggro? keep for now\n",
    "tweet_df.drop(columns=['withheld_in_countries'], inplace=True)"
   ]
  },
  {
   "cell_type": "markdown",
   "metadata": {},
   "source": [
    "## Legit Data Exploration"
   ]
  },
  {
   "cell_type": "code",
   "execution_count": 20,
   "metadata": {},
   "outputs": [
    {
     "data": {
      "text/plain": [
       "Fri Oct 02 07:33:11 +0000 2020    3\n",
       "Fri Oct 02 23:37:28 +0000 2020    3\n",
       "Fri Oct 02 04:57:01 +0000 2020    2\n",
       "Fri Oct 02 05:04:49 +0000 2020    2\n",
       "Thu Oct 01 14:11:25 +0000 2020    2\n",
       "                                 ..\n",
       "Thu Oct 01 15:44:29 +0000 2020    1\n",
       "Fri Oct 02 19:19:28 +0000 2020    1\n",
       "Thu Oct 01 01:27:37 +0000 2020    1\n",
       "Fri Oct 02 22:34:49 +0000 2020    1\n",
       "Thu Oct 01 09:28:42 +0000 2020    1\n",
       "Name: created_at, Length: 139847, dtype: int64"
      ]
     },
     "execution_count": 20,
     "metadata": {},
     "output_type": "execute_result"
    }
   ],
   "source": [
    "tweet_df.created_at.value_counts()"
   ]
  },
  {
   "cell_type": "code",
   "execution_count": 21,
   "metadata": {},
   "outputs": [],
   "source": [
    "tweet_df['created_at'] = pd.to_datetime(tweet_df.created_at)"
   ]
  },
  {
   "cell_type": "code",
   "execution_count": 22,
   "metadata": {},
   "outputs": [
    {
     "data": {
      "text/plain": [
       "Timedelta('2 days 23:59:58')"
      ]
     },
     "execution_count": 22,
     "metadata": {},
     "output_type": "execute_result"
    }
   ],
   "source": [
    "#Tweets follow initial 3 days following first Pres Debate\n",
    "tweet_df.created_at.max() - tweet_df.created_at.min()"
   ]
  },
  {
   "cell_type": "code",
   "execution_count": 23,
   "metadata": {},
   "outputs": [
    {
     "data": {
      "image/png": "[encoded data removed]",
      "text/plain": [
       "<Figure size 432x288 with 1 Axes>"
      ]
     },
     "metadata": {},
     "output_type": "display_data"
    }
   ],
   "source": [
    "day_dic = {29:0, 30:1, 1:2, 2:3}\n",
    "tweet_days = tweet_df.created_at.apply(lambda dt: day_dic[dt.day]).hist()"
   ]
  },
  {
   "cell_type": "code",
   "execution_count": 24,
   "metadata": {},
   "outputs": [
    {
     "data": {
      "text/plain": [
       "140203"
      ]
     },
     "execution_count": 24,
     "metadata": {},
     "output_type": "execute_result"
    }
   ],
   "source": [
    "#can also drop these columns\n",
    "tweet_df.id.nunique()"
   ]
  },
  {
   "cell_type": "code",
   "execution_count": 25,
   "metadata": {},
   "outputs": [
    {
     "data": {
      "text/plain": [
       "140203"
      ]
     },
     "execution_count": 25,
     "metadata": {},
     "output_type": "execute_result"
    }
   ],
   "source": [
    "tweet_df.id_str.nunique()"
   ]
  },
  {
   "cell_type": "code",
   "execution_count": 26,
   "metadata": {},
   "outputs": [
    {
     "data": {
      "text/plain": [
       "False    140203\n",
       "Name: truncated, dtype: int64"
      ]
     },
     "execution_count": 26,
     "metadata": {},
     "output_type": "execute_result"
    }
   ],
   "source": [
    "tweet_df.truncated.value_counts()"
   ]
  },
  {
   "cell_type": "code",
   "execution_count": 27,
   "metadata": {},
   "outputs": [],
   "source": [
    "tweet_df.drop(columns=['id', 'id_str', 'truncated'], inplace=True)"
   ]
  },
  {
   "cell_type": "code",
   "execution_count": 28,
   "metadata": {},
   "outputs": [
    {
     "ename": "TypeError",
     "evalue": "unhashable type: 'list'",
     "output_type": "error",
     "traceback": [
      "\u001b[0;31m---------------------------------------------------------------------------\u001b[0m",
      "\u001b[0;31mTypeError\u001b[0m                                 Traceback (most recent call last)",
      "\u001b[0;32mpandas/_libs/hashtable_class_helper.pxi\u001b[0m in \u001b[0;36mpandas._libs.hashtable.PyObjectHashTable.map_locations\u001b[0;34m()\u001b[0m\n",
      "\u001b[0;31mTypeError\u001b[0m: unhashable type: 'list'"
     ]
    },
    {
     "name": "stderr",
     "output_type": "stream",
     "text": [
      "Exception ignored in: 'pandas._libs.index.IndexEngine._call_map_locations'\n",
      "Traceback (most recent call last):\n",
      "  File \"pandas/_libs/hashtable_class_helper.pxi\", line 1709, in pandas._libs.hashtable.PyObjectHashTable.map_locations\n",
      "TypeError: unhashable type: 'list'\n"
     ]
    },
    {
     "data": {
      "text/plain": [
       "[0, 140]     49232\n",
       "[0, 139]      8068\n",
       "[0, 44]       4680\n",
       "[0, 144]      2051\n",
       "[0, 112]      1134\n",
       "             ...  \n",
       "[34, 152]        1\n",
       "[5, 142]         1\n",
       "[27, 239]        1\n",
       "[5, 133]         1\n",
       "[24, 109]        1\n",
       "Name: display_text_range, Length: 8884, dtype: int64"
      ]
     },
     "execution_count": 28,
     "metadata": {},
     "output_type": "execute_result"
    }
   ],
   "source": [
    "#This looks like we can drop it\n",
    "tweet_df.display_text_range.value_counts()"
   ]
  },
  {
   "cell_type": "code",
   "execution_count": 29,
   "metadata": {},
   "outputs": [
    {
     "data": {
      "text/plain": [
       "array(['@CheriJacobus @JoeBiden I guess this is more appropriate for today than 4 days ago. \\n\\nhttps://t.co/XL3GIDKyfW'],\n",
       "      dtype=object)"
      ]
     },
     "execution_count": 29,
     "metadata": {},
     "output_type": "execute_result"
    }
   ],
   "source": [
    "tweet_df[tweet_df.display_text_range.apply(lambda l: l == [24, 109])].full_text.values"
   ]
  },
  {
   "cell_type": "code",
   "execution_count": 30,
   "metadata": {},
   "outputs": [
    {
     "data": {
      "text/plain": [
       "'RT @KamalaHarris: At 9pm ET tonight, @JoeBiden will face off against Donald Trump in their first of three debates. I know Joe is going to b…'"
      ]
     },
     "execution_count": 30,
     "metadata": {},
     "output_type": "execute_result"
    }
   ],
   "source": [
    "tweet_df[tweet_df.display_text_range.apply(lambda l: l == [0, 140])].full_text.values[0]"
   ]
  },
  {
   "cell_type": "code",
   "execution_count": 31,
   "metadata": {},
   "outputs": [
    {
     "data": {
      "text/plain": [
       "{'hashtags': [],\n",
       " 'symbols': [],\n",
       " 'user_mentions': [],\n",
       " 'urls': [{'url': 'https://t.co/cQuxzexXYt',\n",
       "   'expanded_url': 'https://twitter.com/IngrahamAngle/status/1311081374510710784',\n",
       "   'display_url': 'twitter.com/IngrahamAngle/…',\n",
       "   'indices': [72, 95]}]}"
      ]
     },
     "execution_count": 31,
     "metadata": {},
     "output_type": "execute_result"
    }
   ],
   "source": [
    "#do\n",
    "tweet_df.entities.iloc[0]"
   ]
  },
  {
   "cell_type": "code",
   "execution_count": null,
   "metadata": {},
   "outputs": [],
   "source": []
  }
 ],
 "metadata": {
  "kernelspec": {
   "display_name": "Python 3",
   "language": "python",
   "name": "python3"
  },
  "language_info": {
   "codemirror_mode": {
    "name": "ipython",
    "version": 3
   },
   "file_extension": ".py",
   "mimetype": "text/x-python",
   "name": "python",
   "nbconvert_exporter": "python",
   "pygments_lexer": "ipython3",
   "version": "3.7.4"
  }
 },
 "nbformat": 4,
 "nbformat_minor": 4
}
